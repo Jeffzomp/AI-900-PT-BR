{
  "cells": [
    {
      "cell_type": "markdown",
      "source": [
        "# Detecção e análise de rostos\r\n",
        "\r\n",
        "As soluções de Pesquisa Visual Computacional normalmente exigem que uma solução de inteligência artificial (IA) seja capaz de detectar, analisar ou identificar rostos humanos. Por exemplo, suponha que a empresa de varejo Northwind Traders tenha decidido implementar uma \"loja inteligente\", em que serviços de IA monitorem a loja para identificar clientes que precisam de ajuda e direcionem funcionários para ajudá-los. Uma maneira de fazer isso é realizando detecção e análise facial (em outras palavras, determinar se existe algum rosto nas imagens e, em caso positivo, analisar suas características).\r\n",
        "\r\n",
        "![Um robô analisando um rosto](./images/face_analysis.jpg)\r\n",
        "\r\n",
        "## Usar o serviço cognitivo Detecção Facial para detectar rostos\r\n",
        "\r\n",
        "Suponha que o sistema de loja inteligente que a Northwind Traders quer criar precise ser capaz de detectar clientes e analisar suas características faciais. No Microsoft Azure, você pode usar a **Detecção Facial**, parte dos Serviços Cognitivos do Azure para fazer isso.\r\n",
        "\r\n",
        "### Criar um recurso dos Serviços Cognitivos\r\n",
        "\r\n",
        "Vamos começar criando um recurso dos **Serviços Cognitivos** na sua assinatura do Azure.\r\n",
        "\r\n",
        "> **Observação**: Se você já tiver um recurso dos Serviços Cognitivos, abra a página de **Início Rápido** no portal do Azure e copie a respectiva chave e o ponto de extremidade para a célula abaixo. Caso contrário, siga as etapas abaixo para criar um.\r\n",
        "\r\n",
        "1. Em outra guia do navegador, abra o portal do Azure em https://portal.azure.com, entrando com sua conta Microsoft.\r\n",
        "2. Clique no botão **&#65291;Criar um recurso**, procure *Serviços Cognitivos* e crie um recurso dos **Serviços Cognitivos** com as configurações abaixo:\r\n",
        "    - **Assinatura**: *sua assinatura do Azure*.\r\n",
        "    - **Grupo de recursos**: *Selecione ou crie um grupo de recursos com um nome exclusivo*.\r\n",
        "    - **Região**: *Escolha qualquer região disponível*:\r\n",
        "    - **Nome**: *Insira um nome exclusivo*.\r\n",
        "    - **Tipo de preço**: S0\r\n",
        "    - **Confirmo que li e entendi os avisos**: Selecionado.\r\n",
        "3. Aguarde até que a implantação seja concluída. Depois, entre em seu recurso dos Serviços Cognitivos e, na página **Visão geral**, clique no link para gerenciar as chaves do serviço. Você precisará do ponto de extremidade e das chaves para se conectar aos seus recursos dos Serviços Cognitivos em aplicativos clientes.\r\n",
        "\r\n",
        "### Obter a chave e o ponto de extremidade do seu recurso dos Serviços Cognitivos\r\n",
        "\r\n",
        "Para usar seu recurso dos Serviços Cognitivos, os aplicativos clientes precisam do ponto de extremidade e da chave de autenticação:\r\n",
        "\r\n",
        "1. No portal do Azure, na página **Chaves e ponto de extremidade** do seu recurso dos Serviços Cognitivos, copie a **Chave 1** do recurso e cole no código abaixo, substituindo **YOUR_COG_KEY**.\r\n",
        "\r\n",
        "2. Copie o **ponto de extremidade** do recurso e cole no código abaixo, substituindo **YOUR_COG_ENDPOINT**.\r\n",
        "\r\n",
        "3. Execute o código abaixo clicando no botão Executar célula <span>&#9655</span> (no canto superior esquerdo da célula)."
      ],
      "metadata": {}
    },
    {
      "cell_type": "code",
      "source": [
        "cog_key = 'YOUR_COG_KEY'\n",
        "cog_endpoint = 'YOUR_COG_ENDPOINT'\n",
        "\n",
        "print('Ready to use cognitive services at {} using key {}'.format(cog_endpoint, cog_key))"
      ],
      "outputs": [],
      "execution_count": null,
      "metadata": {
        "gather": {
          "logged": 1599693964655
        }
      }
    },
    {
      "cell_type": "markdown",
      "source": [
        "Agora que você tem um recurso dos Serviços Cognitivos, pode usar o serviço de Detecção Facial para detectar rostos humanos na loja.\r\n",
        "\r\n",
        "Execute a célula de código abaixo para ver um exemplo."
      ],
      "metadata": {}
    },
    {
      "cell_type": "code",
      "source": [
        "from azure.cognitiveservices.vision.face import FaceClient\n",
        "from msrest.authentication import CognitiveServicesCredentials\n",
        "from python_code import faces\n",
        "import os\n",
        "%matplotlib inline\n",
        "\n",
        "# Criar um cliente de detecção facial.\r\n",
        "face_client = FaceClient(cog_endpoint, CognitiveServicesCredentials(cog_key))\n",
        "\n",
        "# Abrir uma imagem\r\n",
        "image_path = os.path.join('data', 'face', 'store_cam2.jpg')\n",
        "image_stream = open(image_path, \"rb\")\n",
        "\n",
        "# Detectar rostos\r\n",
        "detected_faces = face_client.face.detect_with_stream(image=image_stream)\n",
        "\n",
        "# Exibir os rostos (código em python_code/faces.py)\r\n",
        "faces.show_faces(image_path, detected_faces)"
      ],
      "outputs": [],
      "execution_count": null,
      "metadata": {
        "gather": {
          "logged": 1599693970079
        }
      }
    },
    {
      "cell_type": "markdown",
      "source": [
        "Cada rosto detectado recebe uma ID exclusiva, assim o aplicativo pode identificar cada um deles.\r\n",
        "\r\n",
        "Execute a célula abaixo para ver as IDs dos rostos de outros compradores."
      ],
      "metadata": {}
    },
    {
      "cell_type": "code",
      "source": [
        "# Abrir uma imagem\r\n",
        "image_path = os.path.join('data', 'face', 'store_cam3.jpg')\n",
        "image_stream = open(image_path, \"rb\")\n",
        "\n",
        "# Detectar rostos\r\n",
        "detected_faces = face_client.face.detect_with_stream(image=image_stream)\n",
        "\n",
        "# Exibir os rostos (código em python_code/faces.py)\r\n",
        "faces.show_faces(image_path, detected_faces, show_id=True)"
      ],
      "outputs": [],
      "execution_count": null,
      "metadata": {
        "gather": {
          "logged": 1599693970447
        }
      }
    },
    {
      "cell_type": "markdown",
      "source": [
        "## Analisar atributos faciais\r\n",
        "\r\n",
        "A Detecção Facial pode fazer muito mais do que simplesmente detectar rostos. Ela pode analisar características e expressões faciais para sugerir a idade e o estado emocional da pessoa. Por exemplo, execute o código abaixo para analisar os atributos faciais de um comprador."
      ],
      "metadata": {}
    },
    {
      "cell_type": "code",
      "source": [
        "# Abrir uma imagem\r\n",
        "image_path = os.path.join('data', 'face', 'store_cam1.jpg')\n",
        "image_stream = open(image_path, \"rb\")\n",
        "\n",
        "# Detectar rostos e atributos faciais especificados\r\n",
        "attributes = ['age', 'emotion']\n",
        "detected_faces = face_client.face.detect_with_stream(image=image_stream, return_face_attributes=attributes)\n",
        "\n",
        "# Exibir os rostos e atributos (código em python_code/faces.py)\r\n",
        "faces.show_face_attributes(image_path, detected_faces)"
      ],
      "outputs": [],
      "execution_count": null,
      "metadata": {
        "gather": {
          "logged": 1599693971321
        }
      }
    },
    {
      "cell_type": "markdown",
      "source": [
        "Com base nas pontuações de emoção detectadas para o cliente na imagem, ele parece estar muito feliz com a experiência de compra.\r\n",
        "\r\n",
        "## Encontrar rostos similares \r\n",
        "\r\n",
        "As IDs dos rostos que são criadas para face detectada são usadas para identificar detecções faciais individualmente. Você pode usar essas IDs para comparar um rosto detectado com rostos identificados anteriormente e com características semelhantes.\r\n",
        "\r\n",
        "Por exemplo, execute a célula abaixo para comparar o comprador de uma imagem com compradores de outra e encontrar um rosto compatível."
      ],
      "metadata": {}
    },
    {
      "cell_type": "code",
      "source": [
        "# Obter a ID do primeiro rosto da imagem 1\r\n",
        "image_1_path = os.path.join('data', 'face', 'store_cam3.jpg')\n",
        "image_1_stream = open(image_1_path, \"rb\")\n",
        "image_1_faces = face_client.face.detect_with_stream(image=image_1_stream)\n",
        "face_1 = image_1_faces[0]\n",
        "\n",
        "# Obter as IDs dos rostos da segunda imagem\r\n",
        "image_2_path = os.path.join('data', 'face', 'store_cam2.jpg')\n",
        "image_2_stream = open(image_2_path, \"rb\")\n",
        "image_2_faces = face_client.face.detect_with_stream(image=image_2_stream)\n",
        "image_2_face_ids = list(map(lambda face: face.face_id, image_2_faces))\n",
        "\n",
        "# Encontrar rostos na imagem 2 parecidos com o da imagem 1\r\n",
        "similar_faces = face_client.face.find_similar(face_id=face_1.face_id, face_ids=image_2_face_ids)\n",
        "\n",
        "# Exibir o rosto da imagem 1 e os rostos semelhantes da imagem 2 (código em python_code/face.py)\r\n",
        "faces.show_similar_faces(image_1_path, face_1, image_2_path, image_2_faces, similar_faces)"
      ],
      "outputs": [],
      "execution_count": null,
      "metadata": {
        "gather": {
          "logged": 1599693972555
        }
      }
    },
    {
      "cell_type": "markdown",
      "source": [
        "## Reconhecer rostos\r\n",
        "\r\n",
        "Até agora, você viu que a Detecção Facial é capaz de detectar rostos e características faciais, além de identificar rostos parecidos. Você pode levar as coisas um pouco mais além implementando uma solução de *reconhecimento facial*, em que a Detecção Facial é treinada para reconhecer o rosto de uma pessoa específica. Isso pode ser útil em diversos cenários, como a marcação automática de fotos de amigos em um aplicativo de rede social ou o uso de reconhecimento facial como parte de um sistema de verificação biométrica de identidade.\r\n",
        "\r\n",
        "Para ver como esse processo funciona, vamos supor que a empresa Northwind Traders queira usar o reconhecimento facial para garantir que somente funcionários autorizados do departamento de TI consigam acessar os sistemas de segurança.\r\n",
        "\r\n",
        "Vamos começar criando um *grupo de pessoas* para representar os funcionários autorizados."
      ],
      "metadata": {}
    },
    {
      "cell_type": "code",
      "source": [
        "group_id = 'employee_group_id'\n",
        "try:\n",
        "    # Delete group if it already exists\n",
        "    face_client.person_group.delete(group_id)\n",
        "except Exception as ex:\n",
        "    print(ex.message)\n",
        "finally:\n",
        "    face_client.person_group.create(group_id, 'employees')\n",
        "    print ('Group created!')"
      ],
      "outputs": [],
      "execution_count": null,
      "metadata": {
        "gather": {
          "logged": 1599693973492
        }
      }
    },
    {
      "cell_type": "markdown",
      "source": [
        "Agora que o *grupo de pessoas* existe, podemos adicionar uma *pessoa* para cada funcionário que quisermos incluir no grupo. Depois, registramos várias fotos de cada um deles para que a Detecção Facial aprenda quais são as características faciais distintas de cada pessoa. Idealmente, as imagens devem mostrar a mesma pessoa em poses diferentes e com expressões faciais diferentes.\r\n",
        "\r\n",
        "Vamos adicionar um único funcionário chamado Wendell e registrar três fotos dele."
      ],
      "metadata": {}
    },
    {
      "cell_type": "code",
      "source": [
        "import matplotlib.pyplot as plt\n",
        "from PIL import Image\n",
        "import os\n",
        "%matplotlib inline\n",
        "\n",
        "# Adicionar uma pessoa (Wendell) ao grupo\r\n",
        "wendell = face_client.person_group_person.create(group_id, 'Wendell')\n",
        "\n",
        "# Obter uma foto de Wendell\r\n",
        "folder = os.path.join('data', 'face', 'wendell')\n",
        "wendell_pics = os.listdir(folder)\n",
        "\n",
        "# Registrar as fotos\r\n",
        "i = 0\n",
        "fig = plt.figure(figsize=(8, 8))\n",
        "for pic in wendell_pics:\n",
        "    # Add each photo to person in person group\n",
        "    img_path = os.path.join(folder, pic)\n",
        "    img_stream = open(img_path, \"rb\")\n",
        "    face_client.person_group_person.add_face_from_stream(group_id, wendell.person_id, img_stream)\n",
        "\n",
        "    # Display each image\n",
        "    img = Image.open(img_path)\n",
        "    i +=1\n",
        "    a=fig.add_subplot(1,len(wendell_pics), i)\n",
        "    a.axis('off')\n",
        "    imgplot = plt.imshow(img)\n",
        "plt.show()"
      ],
      "outputs": [],
      "execution_count": null,
      "metadata": {
        "gather": {
          "logged": 1599693976898
        }
      }
    },
    {
      "cell_type": "markdown",
      "source": [
        "Com a pessoa adicionada e as fotografias registradas, podemos treinar a Detecção Facial para reconhecer cada indivíduo."
      ],
      "metadata": {}
    },
    {
      "cell_type": "code",
      "source": [
        "face_client.person_group.train(group_id)\n",
        "print('Trained!')"
      ],
      "outputs": [],
      "execution_count": null,
      "metadata": {
        "gather": {
          "logged": 1599693977046
        }
      }
    },
    {
      "cell_type": "markdown",
      "source": [
        "Agora, com o modelo treinado, você pode usá-lo para identificar rostos reconhecidos em uma imagem."
      ],
      "metadata": {}
    },
    {
      "cell_type": "code",
      "source": [
        "# Obter as IDs dos rostos da segunda imagem\r\n",
        "image_path = os.path.join('data', 'face', 'employees.jpg')\n",
        "image_stream = open(image_path, \"rb\")\n",
        "image_faces = face_client.face.detect_with_stream(image=image_stream)\n",
        "image_face_ids = list(map(lambda face: face.face_id, image_faces))\n",
        "\n",
        "# Obter os nomes dos rostos reconhecidos\r\n",
        "face_names = {}\n",
        "recognized_faces = face_client.face.identify(image_face_ids, group_id)\n",
        "for face in recognized_faces:\n",
        "    person_name = face_client.person_group_person.get(group_id, face.candidates[0].person_id).name\n",
        "    face_names[face.face_id] = person_name\n",
        "\n",
        "# Exibir rostos reconhecidos\r\n",
        "faces.show_recognized_faces(image_path, image_faces, face_names)\n",
        "\n"
      ],
      "outputs": [],
      "execution_count": null,
      "metadata": {
        "gather": {
          "logged": 1599693994820
        }
      }
    },
    {
      "cell_type": "markdown",
      "source": [
        "## Saiba mais\r\n",
        "\r\n",
        "Para saber mais sobre o serviço cognitivo de Detecção Facial, consulte a [documentação da Detecção Facial](https://docs.microsoft.com/azure/cognitive-services/face/)\r\n"
      ],
      "metadata": {}
    }
  ],
  "metadata": {
    "language_info": {
      "name": "python",
      "version": "3.6.9",
      "mimetype": "text/x-python",
      "codemirror_mode": {
        "name": "ipython",
        "version": 3
      },
      "pygments_lexer": "ipython3",
      "nbconvert_exporter": "python",
      "file_extension": ".py"
    },
    "kernelspec": {
      "name": "python3-azureml",
      "language": "python",
      "display_name": "Python 3.6 - AzureML"
    },
    "kernel_info": {
      "name": "python3-azureml"
    },
    "nteract": {
      "version": "nteract-front-end@1.0.0"
    }
  },
  "nbformat": 4,
  "nbformat_minor": 2
}